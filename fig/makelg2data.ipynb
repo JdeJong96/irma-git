{
 "cells": [
  {
   "cell_type": "markdown",
   "id": "31dd9c03-f810-4d7c-842b-6fb1bce36734",
   "metadata": {},
   "source": [
    "# Azimuthal mean data from +012 to +024"
   ]
  },
  {
   "cell_type": "code",
   "execution_count": 1,
   "id": "0af0992c-d9a7-42e3-9db5-001597126ca8",
   "metadata": {},
   "outputs": [],
   "source": [
    "import os\n",
    "import glob\n",
    "import xarray\n",
    "os.chdir('/Users/jasperdejong/Documents/PhD/Irma/Scripts/')\n",
    "import s05cimf2 as c\n",
    "%load_ext autoreload\n",
    "%autoreload 2"
   ]
  },
  {
   "cell_type": "code",
   "execution_count": 2,
   "id": "02297c1f-0a93-4421-b4b9-2128322389a2",
   "metadata": {},
   "outputs": [],
   "source": [
    "dataloc = \"/Users/jasperdejong/Documents/PhD/Irma/Data/LambertGrid/629x989interped/\"\n",
    "files = sorted(glob.glob(dataloc+'*.nc'))"
   ]
  },
  {
   "cell_type": "code",
   "execution_count": 3,
   "id": "33b40985-af3c-4146-a6cb-287b9d721cf1",
   "metadata": {},
   "outputs": [
    {
     "name": "stdout",
     "output_type": "stream",
     "text": [
      "00:00:00: -------------------------main()-------------------------\n",
      "00:00:00: Running s05cimf.py with method = lagrange2d, steady = False, verbosity = 1\n",
      "00:00:04: crop()\n",
      "00:01:12: calc_cimf()\n",
      "00:01:12: masscontinuity(lagrange2d)\n",
      "00:01:12: latlon2dxdy()\n",
      "00:01:12: translational_velocity()\n",
      "00:01:12: calc_dp(ds)\n",
      "00:01:14: masstendency()\n",
      "00:01:15: iwind2\n",
      "00:01:17: FX, FY in masscontinuity()\n",
      "00:01:21: ddx, ddy in masscontinuity()\n",
      "00:01:34: integrate_dcimf()\n",
      "00:01:35: azimean()\n",
      "00:01:35: toPolar()\n",
      "00:01:35: distance()\n",
      "00:01:35: convert_wind()\n",
      "00:01:35: translational_velocity()\n",
      "00:01:37: transform_vector()\n",
      "00:01:55: azimean: vorticity_flux()\n",
      "00:01:55: vorticity_flux()\n",
      "00:01:55: Calculating dthetadt with (slightly) misaligned dp and sigma.\n",
      "00:01:55: calc_dp(ds)\n",
      "00:02:05: translational_velocity()\n",
      "00:02:05: cartesian_gradient()\n",
      "00:02:27: cartesian_gradient()\n",
      "00:02:48: cartesian_gradient()\n",
      "00:02:59: cartesian_gradient()\n",
      "00:03:27: cartesian_gradient()\n",
      "00:04:57: cartesian_gradient()\n",
      "00:06:04: cartesian_gradient()\n",
      "00:06:23: cartesian_gradient()\n",
      "00:06:31: cartesian_gradient()\n",
      "00:06:58: cartesian_gradient()\n",
      "00:08:12: cartesian_gradient()\n",
      "00:08:17: toPolar()\n",
      "00:08:17: distance()\n",
      "00:08:33: transform_vector()\n",
      "00:08:34: transform_vector()\n",
      "00:09:30: transform_vector()\n",
      "00:09:30: azimean: done.\n",
      "00:09:30: azimean_gufunc()\n",
      "00:11:15: removing ['dy', 'dx'] from azimuthal mean dataset\n",
      "00:33:56: done.\n"
     ]
    }
   ],
   "source": [
    "dsl,ratio = c.main(files)"
   ]
  },
  {
   "cell_type": "code",
   "execution_count": 4,
   "id": "d84fc4b0-0697-4b98-9250-7b9e68de403a",
   "metadata": {},
   "outputs": [],
   "source": [
    "dsl.to_netcdf('fig/lg2data.nc')\n",
    "ratio.to_netcdf('fig/lg2ratio.nc')"
   ]
  },
  {
   "cell_type": "code",
   "execution_count": null,
   "id": "3ed854d5-583a-410e-9195-575bdea34049",
   "metadata": {},
   "outputs": [],
   "source": []
  }
 ],
 "metadata": {
  "kernelspec": {
   "display_name": "Python 3 (ipykernel)",
   "language": "python",
   "name": "python3"
  },
  "language_info": {
   "codemirror_mode": {
    "name": "ipython",
    "version": 3
   },
   "file_extension": ".py",
   "mimetype": "text/x-python",
   "name": "python",
   "nbconvert_exporter": "python",
   "pygments_lexer": "ipython3",
   "version": "3.8.15"
  }
 },
 "nbformat": 4,
 "nbformat_minor": 5
}
