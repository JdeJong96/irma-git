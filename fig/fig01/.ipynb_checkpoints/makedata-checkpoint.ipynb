{
 "cells": [
  {
   "cell_type": "markdown",
   "id": "de0b60a8-bb00-4451-b4e6-a486da92af59",
   "metadata": {},
   "source": [
    "# Calculate 500-900hPa mean absolute vorticity"
   ]
  },
  {
   "cell_type": "code",
   "execution_count": 23,
   "id": "a4ec8b57-5d84-4dde-8f45-f51941a8b18e",
   "metadata": {},
   "outputs": [
    {
     "name": "stdout",
     "output_type": "stream",
     "text": [
      "The autoreload extension is already loaded. To reload it, use:\n",
      "  %reload_ext autoreload\n"
     ]
    }
   ],
   "source": [
    "import os\n",
    "import sys\n",
    "sys.path.append('../..')\n",
    "import glob\n",
    "import time\n",
    "import xarray\n",
    "import numpy as np\n",
    "import matplotlib.pyplot as plt\n",
    "import matplotlib.colors as colors\n",
    "import matplotlib as mpl\n",
    "import cartopy.crs as ccrs\n",
    "from cartopy.mpl.gridliner import LONGITUDE_FORMATTER, LATITUDE_FORMATTER\n",
    "import cmocean\n",
    "import cimf as c\n",
    "from ddxddy import ddxND, ddyND\n",
    "%load_ext autoreload\n",
    "%autoreload 2"
   ]
  },
  {
   "cell_type": "code",
   "execution_count": 24,
   "id": "5af0ea62-e649-4c39-aab3-9be1c9f86660",
   "metadata": {},
   "outputs": [],
   "source": [
    "plt.rcParams['font.family'] = ['sans-serif']\n",
    "plt.rcParams['font.sans-serif'] = ['Helvetica']\n",
    "plt.rcParams['font.cursive'] = ['Helvetica-Oblique']\n",
    "plt.rcParams['pdf.fonttype'] = 42"
   ]
  },
  {
   "cell_type": "code",
   "execution_count": 3,
   "id": "5e7609e7-3466-414c-8b69-ba9f9089a657",
   "metadata": {},
   "outputs": [],
   "source": [
    "p_ref = 100000\n",
    "cp = 1004\n",
    "Rdry = 286.9\n",
    "kappa = Rdry/cp\n",
    "fc = 4.25e-5"
   ]
  },
  {
   "cell_type": "code",
   "execution_count": 4,
   "id": "ceaa7dd7-510d-4ed3-af2b-217c0725aadb",
   "metadata": {},
   "outputs": [],
   "source": [
    "dataloc = \"/Users/jasperdejong/Documents/PhD/Irma/Data/LambertGrid/629x989interped/\"\n",
    "dataloc2 = \"/Users/jasperdejong/Documents/PhD/Irma/Data/LambertGrid/629x989/\"\n",
    "files = sorted(glob.glob(dataloc+'*.nc'))\n",
    "files2 = sorted(glob.glob(dataloc2+'*.nc'))"
   ]
  },
  {
   "cell_type": "code",
   "execution_count": 5,
   "id": "5678c209-9d6b-4428-8f14-564dd17fbb93",
   "metadata": {},
   "outputs": [],
   "source": [
    "from numba import float64, guvectorize\n",
    "\n",
    "@guvectorize(\n",
    "    \"(float32[:], float32[:], float32[:], float32[:])\",\n",
    "    \" (n), (n), (m) -> (m)\",\n",
    "    nopython=True,\n",
    ")\n",
    "def interp1d_gu(f, x, xi, out):\n",
    "    \"\"\"Interpolate field f(x) to xi in ln(x) coordinates.\"\"\"\n",
    "    i, imax, x0, f0 = 0, len(xi), x[0], f[0]\n",
    "    while xi[i]<x0 and i < imax:\n",
    "        out[i] = np.nan      \n",
    "        i = i + 1 \n",
    "    for x1,f1 in zip(x[1:], f[1:]):\n",
    "        while xi[i] <= x1 and i < imax:\n",
    "            out[i] = (f1-f0)/np.log(x1/x0)*np.log(xi[i]/x0)+f0\n",
    "            i = i + 1\n",
    "        x0, f0 = x1, f1\n",
    "    while i < imax:\n",
    "        out[i] = np.nan\n",
    "        i = i + 1\n",
    "\n",
    "\n",
    "def xr_interp(data, p, newp):\n",
    "\n",
    "    interped = xarray.apply_ufunc(\n",
    "        interp1d_gu,  # first the function\n",
    "        data,  # now arguments in the order expected by 'interp1_np'\n",
    "        p,  # as above\n",
    "        newp,  # as above\n",
    "        input_core_dims=[['hybrid'], ['hybrid'], ['p']],  # list with one entry per arg\n",
    "        output_core_dims=[['p']],  # returned data has one dimension\n",
    "        exclude_dims=set(('hybrid',)),  # dimensions allowed to change size. Must be a set!\n",
    "        dask=\"parallelized\",\n",
    "        output_dtypes=[\n",
    "            data.dtype\n",
    "        ],  # one per output; could also be float or np.dtype(\"float64\")\n",
    "    ).compute()\n",
    "    interped['p'] = newp\n",
    "\n",
    "    return interped"
   ]
  },
  {
   "cell_type": "code",
   "execution_count": null,
   "id": "a1b82b9d-d83c-4138-93e5-36e4df4681f3",
   "metadata": {},
   "outputs": [],
   "source": [
    "%%time\n",
    "ds2 = xarray.open_mfdataset('/Users/jasperdejong/Documents/PhD/Irma/Data/LambertGrid/629x989/fc2017090512+???.nc',\n",
    "                          combine='nested', concat_dim='valid_time')\n",
    "ds2['pres'] = (ds2.a + ds2.b * ds2.p0m).astype('float32')\n",
    "ds2['eta'] = ddxND(ds2.v) - ddyND(ds2.u)\n",
    "ds2['theta'] = (ds2.t  * (p_ref/ds2.pres)**kappa).astype('float32')\n",
    "ds2 = c.crop(ds2, d=80)\n",
    "ds2 = c.convert_wind(ds2)\n",
    "ds2['u_rad'] = ds2.u_rad.astype('float32')\n",
    "ds2['v_tan'] = ds2.v_tan.astype('float32')\n",
    "pi = np.arange(25,1025,25,dtype=ds2.pres.dtype)*100\n",
    "ds2['eta'] = xr_interp(ds2.eta, ds2.pres, pi)\n",
    "ds2['theta'] = xr_interp(ds2.theta, ds2.pres, pi)\n",
    "ds2['u_rad'] = xr_interp(ds2.u_rad, ds2.pres, pi)\n",
    "ds2['v_tan'] = xr_interp(ds2.v_tan, ds2.pres, pi)\n",
    "r, angle = c.distance(ds2.latitude.sel(dy=0,dx=0), ds2.longitude.sel(dy=0,dx=0), \n",
    "                      ds2.latitude, ds2.longitude)\n",
    "ds2 = ds2.assign_coords({'r':r})"
   ]
  },
  {
   "cell_type": "code",
   "execution_count": 18,
   "id": "056b2013-5eab-46af-9703-4d6e774a5a46",
   "metadata": {},
   "outputs": [],
   "source": [
    "data = ds2[[var for var in ds2.variables if ('hybrid' not in ds2[var].dims)]]"
   ]
  },
  {
   "cell_type": "code",
   "execution_count": 22,
   "id": "3f475c7f-bf04-4183-b815-e25977489fc2",
   "metadata": {},
   "outputs": [],
   "source": [
    "data.to_netcdf('fig/eta_500-900hPa-mean_hovmoller/figdata2.nc')"
   ]
  },
  {
   "cell_type": "code",
   "execution_count": null,
   "id": "c0018848-c23f-4230-a832-a273e4af2afa",
   "metadata": {},
   "outputs": [],
   "source": []
  }
 ],
 "metadata": {
  "kernelspec": {
   "display_name": "Python 3 (ipykernel)",
   "language": "python",
   "name": "python3"
  },
  "language_info": {
   "codemirror_mode": {
    "name": "ipython",
    "version": 3
   },
   "file_extension": ".py",
   "mimetype": "text/x-python",
   "name": "python",
   "nbconvert_exporter": "python",
   "pygments_lexer": "ipython3",
   "version": "3.8.15"
  }
 },
 "nbformat": 4,
 "nbformat_minor": 5
}
