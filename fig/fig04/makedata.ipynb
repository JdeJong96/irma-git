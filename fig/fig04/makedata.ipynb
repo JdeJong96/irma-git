{
 "cells": [
  {
   "cell_type": "markdown",
   "id": "de0b60a8-bb00-4451-b4e6-a486da92af59",
   "metadata": {},
   "source": [
    "# Calculate 310-340K and 500-900hPa mean and azimuthal mean absolute vorticity"
   ]
  },
  {
   "cell_type": "code",
   "execution_count": 1,
   "id": "a4ec8b57-5d84-4dde-8f45-f51941a8b18e",
   "metadata": {},
   "outputs": [],
   "source": [
    "import os\n",
    "import sys\n",
    "sys.path.append('../..')\n",
    "import glob\n",
    "import time\n",
    "import xarray\n",
    "import numpy as np\n",
    "import matplotlib.pyplot as plt\n",
    "import matplotlib.colors as colors\n",
    "import matplotlib as mpl\n",
    "import cartopy.crs as ccrs\n",
    "from cartopy.mpl.gridliner import LONGITUDE_FORMATTER, LATITUDE_FORMATTER\n",
    "import cmocean\n",
    "import cimf as c\n",
    "from ddxddy import ddxND, ddyND\n",
    "%load_ext autoreload\n",
    "%autoreload 2"
   ]
  },
  {
   "cell_type": "code",
   "execution_count": 2,
   "id": "5e7609e7-3466-414c-8b69-ba9f9089a657",
   "metadata": {},
   "outputs": [],
   "source": [
    "p_ref = 100000\n",
    "cp = 1004\n",
    "Rdry = 286.9\n",
    "kappa = Rdry/cp"
   ]
  },
  {
   "cell_type": "code",
   "execution_count": 3,
   "id": "5678c209-9d6b-4428-8f14-564dd17fbb93",
   "metadata": {},
   "outputs": [],
   "source": [
    "from numba import float64, guvectorize\n",
    "\n",
    "@guvectorize(\n",
    "    \"(float32[:], float32[:], float32[:], float32[:])\",\n",
    "    \" (n), (n), (m) -> (m)\",\n",
    "    nopython=True,\n",
    ")\n",
    "def interp1d_gu(f, x, xi, out):\n",
    "    \"\"\"Interpolate field f(x) to xi in ln(x) coordinates.\"\"\"\n",
    "    i, imax, x0, f0 = 0, len(xi), x[0], f[0]\n",
    "    while xi[i]<x0 and i < imax:\n",
    "        out[i] = np.nan      \n",
    "        i = i + 1 \n",
    "    for x1,f1 in zip(x[1:], f[1:]):\n",
    "        while xi[i] <= x1 and i < imax:\n",
    "            out[i] = (f1-f0)/np.log(x1/x0)*np.log(xi[i]/x0)+f0\n",
    "            i = i + 1\n",
    "        x0, f0 = x1, f1\n",
    "    while i < imax:\n",
    "        out[i] = np.nan\n",
    "        i = i + 1\n",
    "\n",
    "\n",
    "def xr_interp(data, p, newp):\n",
    "    print(f\"xr_interp: {data.name}\")\n",
    "    interped = xarray.apply_ufunc(\n",
    "        interp1d_gu,  # first the function\n",
    "        data,  # now arguments in the order expected by 'interp1_np'\n",
    "        p,  # as above\n",
    "        newp,  # as above\n",
    "        input_core_dims=[['hybrid'], ['hybrid'], ['p']],  # list with one entry per arg\n",
    "        output_core_dims=[['p']],  # returned data has one dimension\n",
    "        exclude_dims=set(('hybrid',)),  # dimensions allowed to change size. Must be a set!\n",
    "        dask=\"parallelized\",\n",
    "        output_dtypes=[\n",
    "            data.dtype\n",
    "        ],  # one per output; could also be float or np.dtype(\"float64\")\n",
    "    ).persist()\n",
    "    interped['p'] = newp\n",
    "\n",
    "    return interped"
   ]
  },
  {
   "cell_type": "markdown",
   "id": "2a92dcc1-6c75-4016-a5fc-0ad34b056df1",
   "metadata": {},
   "source": [
    "### Potential temperature coordinates"
   ]
  },
  {
   "cell_type": "code",
   "execution_count": 4,
   "id": "a11bcc23-90ec-4895-831d-a8749044a509",
   "metadata": {},
   "outputs": [],
   "source": [
    "ds1 = xarray.open_mfdataset(\n",
    "    '/Users/jasperdejong/Documents/PhD/Irma/Data/LambertGrid/629x989interped/fc2017090512+???.nc',\n",
    "    combine='nested', concat_dim='valid_time', decode_timedelta=True)"
   ]
  },
  {
   "cell_type": "code",
   "execution_count": 5,
   "id": "53b72709-f179-4e11-b58b-b8309e6a082d",
   "metadata": {},
   "outputs": [
    {
     "name": "stdout",
     "output_type": "stream",
     "text": [
      "eta done\n",
      "12:29:36: crop()\n",
      "crop done\n",
      "12:30:20: convert_wind()\n",
      "12:30:20: toPolar()\n",
      "12:30:20: distance()\n",
      "12:30:20: translational_velocity()\n",
      "12:30:20: transform_vector()\n",
      "wind done\n",
      "12:30:24: distance()\n"
     ]
    }
   ],
   "source": [
    "ds1['eta'] = ddxND(ds1.v) - ddyND(ds1.u); print(\"eta done\")\n",
    "ds1 = c.crop(ds1, d=80); print(\"crop done\")\n",
    "ds1 = c.convert_wind(ds1); print(\"wind done\")\n",
    "ds1['u_rad'] = ds1.u_rad.astype('float32')\n",
    "ds1['v_tan'] = ds1.v_tan.astype('float32')\n",
    "r, angle = c.distance(ds1.latitude.sel(dy=0,dx=0), ds1.longitude.sel(dy=0,dx=0), \n",
    "                      ds1.latitude, ds1.longitude)\n",
    "ds1 = ds1.assign_coords({'r':r})"
   ]
  },
  {
   "cell_type": "code",
   "execution_count": 6,
   "id": "df5cc2d0-86cb-4f2c-b7ff-f7556890b51c",
   "metadata": {},
   "outputs": [],
   "source": [
    "ds1.sel(theta=slice(310,340),dy=0,dx=slice(-50,50)).mean('theta').to_netcdf(\"figdata_310-340K_avg.nc\")"
   ]
  },
  {
   "cell_type": "code",
   "execution_count": 7,
   "id": "fdeb0016-5852-4020-a3ff-8e62b6ffa45c",
   "metadata": {},
   "outputs": [
    {
     "name": "stdout",
     "output_type": "stream",
     "text": [
      "12:30:24: azimean()\n",
      "12:30:24: toPolar()\n",
      "12:30:24: distance()\n",
      "12:30:24: convert_wind()\n",
      "12:30:24: translational_velocity()\n",
      "12:30:25: transform_vector()\n",
      "12:30:28: azimean_gufunc()\n",
      "12:30:32: removing ['dy', 'dx'] from azimuthal mean dataset\n"
     ]
    }
   ],
   "source": [
    "dsm1,_ = c.azimean(ds1)"
   ]
  },
  {
   "cell_type": "code",
   "execution_count": 8,
   "id": "64fad2e3-e660-4105-888f-5b3330ffd4fa",
   "metadata": {},
   "outputs": [],
   "source": [
    "dsm1.mean('valid_time').to_netcdf(\"figdata_azimean_theta.nc\")"
   ]
  },
  {
   "cell_type": "markdown",
   "id": "8d2450ec-62aa-40be-8dd8-fdde1f9248ef",
   "metadata": {},
   "source": [
    "### Pressure coordinates"
   ]
  },
  {
   "cell_type": "code",
   "execution_count": 9,
   "id": "a1b82b9d-d83c-4138-93e5-36e4df4681f3",
   "metadata": {},
   "outputs": [
    {
     "name": "stdout",
     "output_type": "stream",
     "text": [
      "pressure done\n",
      "eta done\n",
      "theta done\n",
      "12:32:31: crop()\n",
      "crop done\n",
      "12:33:40: convert_wind()\n",
      "12:33:40: toPolar()\n",
      "12:33:40: distance()\n",
      "12:33:40: translational_velocity()\n",
      "12:33:42: transform_vector()\n",
      "wind done\n",
      "xr_interp: eta\n",
      "xr_interp: theta\n",
      "xr_interp: u_rad\n",
      "xr_interp: v_tan\n",
      "12:33:54: distance()\n",
      "CPU times: user 3min 22s, sys: 3min 41s, total: 7min 3s\n",
      "Wall time: 3min 21s\n"
     ]
    }
   ],
   "source": [
    "%%time\n",
    "ds2 = xarray.open_mfdataset(\n",
    "    '/Users/jasperdejong/Documents/PhD/Irma/Data/LambertGrid/629x989/fc2017090512+???.nc',\n",
    "    combine='nested', concat_dim='valid_time', decode_timedelta=True)\n",
    "ds2['pres'] = (ds2.a + ds2.b * ds2.p0m).astype('float32'); print(\"pressure done\")\n",
    "ds2['eta'] = ddxND(ds2.v) - ddyND(ds2.u); print(\"eta done\")\n",
    "ds2['theta'] = (ds2.t  * (p_ref/ds2.pres)**kappa).astype('float32'); print(\"theta done\")\n",
    "ds2 = c.crop(ds2, d=80); print(\"crop done\")\n",
    "ds2 = c.convert_wind(ds2); print(\"wind done\")\n",
    "ds2['u_rad'] = ds2.u_rad.astype('float32')\n",
    "ds2['v_tan'] = ds2.v_tan.astype('float32')\n",
    "pi = np.arange(25,1025,25,dtype=ds2.pres.dtype)*100\n",
    "ds2['eta'] = xr_interp(ds2.eta, ds2.pres, pi)\n",
    "ds2['theta'] = xr_interp(ds2.theta, ds2.pres, pi)\n",
    "ds2['u_rad'] = xr_interp(ds2.u_rad, ds2.pres, pi)\n",
    "ds2['v_tan'] = xr_interp(ds2.v_tan, ds2.pres, pi)\n",
    "r, angle = c.distance(ds2.latitude.sel(dy=0,dx=0), ds2.longitude.sel(dy=0,dx=0), \n",
    "                      ds2.latitude, ds2.longitude)\n",
    "ds2 = ds2.assign_coords({'r':r})\n",
    "data = ds2[[var for var in ds2.variables if ('hybrid' not in ds2[var].dims)]]"
   ]
  },
  {
   "cell_type": "code",
   "execution_count": 10,
   "id": "ab8baffd-14a1-479f-8aaf-1e3f885449ac",
   "metadata": {},
   "outputs": [],
   "source": [
    "data.sel(p=slice(50000,90000),dy=0, dx=slice(-50,50)).mean('p').to_netcdf(\"figdata_900-500hpa_avg.nc\")"
   ]
  },
  {
   "cell_type": "code",
   "execution_count": 11,
   "id": "a2b27b95-e463-4c37-93f3-829ae4beec2d",
   "metadata": {},
   "outputs": [
    {
     "name": "stdout",
     "output_type": "stream",
     "text": [
      "12:33:54: azimean()\n",
      "12:33:54: toPolar()\n",
      "12:33:54: distance()\n",
      "12:33:54: convert_wind()\n",
      "12:33:54: convert_wind(): using existing u_rad and v_tan\n",
      "12:33:54: azimean_gufunc()\n",
      "12:33:56: removing ['dy', 'dx'] from azimuthal mean dataset\n"
     ]
    }
   ],
   "source": [
    "dsm2,_ = c.azimean(data)"
   ]
  },
  {
   "cell_type": "code",
   "execution_count": 12,
   "id": "056b2013-5eab-46af-9703-4d6e774a5a46",
   "metadata": {},
   "outputs": [],
   "source": [
    "dsm2.mean(\"valid_time\").to_netcdf(\"figdata_azimean_pres.nc\")"
   ]
  }
 ],
 "metadata": {
  "kernelspec": {
   "display_name": "Python 3 (ipykernel)",
   "language": "python",
   "name": "python3"
  },
  "language_info": {
   "codemirror_mode": {
    "name": "ipython",
    "version": 3
   },
   "file_extension": ".py",
   "mimetype": "text/x-python",
   "name": "python",
   "nbconvert_exporter": "python",
   "pygments_lexer": "ipython3",
   "version": "3.11.9"
  }
 },
 "nbformat": 4,
 "nbformat_minor": 5
}
