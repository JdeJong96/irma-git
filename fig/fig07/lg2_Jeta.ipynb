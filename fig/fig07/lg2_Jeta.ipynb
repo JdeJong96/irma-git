{
 "cells": [
  {
   "cell_type": "markdown",
   "id": "c95f437c-5791-49f0-ab4e-6b53444321be",
   "metadata": {},
   "source": [
    "# Mean and Eddy vorticity fluxes"
   ]
  },
  {
   "cell_type": "code",
   "execution_count": 1,
   "id": "f504ca68-16d1-47a0-b968-7cef57e04cc9",
   "metadata": {},
   "outputs": [],
   "source": [
    "import os\n",
    "import sys\n",
    "sys.path.append('../..')\n",
    "import glob\n",
    "import time\n",
    "import xarray\n",
    "import numpy as np\n",
    "import matplotlib.pyplot as plt\n",
    "import matplotlib.colors as colors\n",
    "import matplotlib as mpl\n",
    "import cartopy.crs as ccrs\n",
    "from cartopy.mpl.gridliner import LONGITUDE_FORMATTER, LATITUDE_FORMATTER\n",
    "import cmocean\n",
    "from numba import float64, guvectorize\n",
    "import cimf as c\n",
    "from ddxddy import ddxND, ddyND\n",
    "%load_ext autoreload\n",
    "%autoreload 2\n",
    "\n",
    "plt.rcParams['font.family'] = ['sans-serif']\n",
    "plt.rcParams['font.sans-serif'] = ['Helvetica']\n",
    "plt.rcParams['font.cursive'] = ['Helvetica-Oblique']\n",
    "plt.rcParams['pdf.fonttype'] = 42"
   ]
  },
  {
   "cell_type": "code",
   "execution_count": 2,
   "id": "f4e122f1-8f3e-42a8-be51-8b537601a555",
   "metadata": {},
   "outputs": [],
   "source": [
    "p_ref = 100000\n",
    "cp = 1004\n",
    "Rdry = 286.9\n",
    "kappa = Rdry/cp"
   ]
  },
  {
   "cell_type": "code",
   "execution_count": 3,
   "id": "ea76972a-9bc4-4d43-a05e-50062e0be1cf",
   "metadata": {},
   "outputs": [],
   "source": [
    "dataloc = \"/Users/jasperdejong/Documents/PhD/Irma/Data/LambertGrid/629x989interped/\"\n",
    "#dataloc2 = \"/Users/jasperdejong/Documents/PhD/Irma/Data/LambertGrid/629x989/\"\n",
    "files = sorted(glob.glob(dataloc+'*.nc'))\n",
    "#files2 = sorted(glob.glob(dataloc2+'*.nc'))"
   ]
  },
  {
   "cell_type": "code",
   "execution_count": 4,
   "id": "4c6dcdd4-55e8-4c42-a053-95126d00426e",
   "metadata": {
    "tags": []
   },
   "outputs": [],
   "source": [
    "dst = xarray.open_mfdataset(files, combine='nested', concat_dim='valid_time')"
   ]
  },
  {
   "cell_type": "code",
   "execution_count": 5,
   "id": "6d7916f7-6ce1-4e54-bf87-798068727aa4",
   "metadata": {
    "tags": []
   },
   "outputs": [],
   "source": [
    "dtdp = dst.theta.diff('theta') / dst.pres.diff('theta')"
   ]
  },
  {
   "cell_type": "code",
   "execution_count": 6,
   "id": "fa141c88-932b-4fb3-a939-9482874f679e",
   "metadata": {
    "tags": []
   },
   "outputs": [
    {
     "name": "stdout",
     "output_type": "stream",
     "text": [
      "08:08:49: crop()\n",
      "08:09:08: calc_cimf()\n",
      "08:09:08: masscontinuity(lagrange2d)\n",
      "08:09:08: latlon2dxdy()\n",
      "08:09:08: translational_velocity()\n",
      "08:09:08: calc_dp(ds)\n",
      "08:09:09: masstendency()\n",
      "08:09:10: iwind2\n",
      "08:09:12: FX, FY in masscontinuity()\n",
      "08:09:30: ddx, ddy in masscontinuity()\n",
      "08:09:54: integrate_dcimf()\n",
      "08:10:07: calc_dp(ds)\n",
      "08:10:12: convert_wind()\n",
      "08:10:12: toPolar()\n",
      "08:10:12: distance()\n",
      "08:10:12: translational_velocity()\n",
      "08:10:17: transform_vector()\n",
      "CPU times: user 53 s, sys: 1min 6s, total: 1min 59s\n",
      "Wall time: 2min 2s\n"
     ]
    }
   ],
   "source": [
    "%%time\n",
    "ds = xarray.open_mfdataset(files, combine='nested', concat_dim='valid_time')\n",
    "ds = ds.drop_vars(['q','tke','height','Ke','dtdp'])\n",
    "ds = c.crop(ds)\n",
    "ds = ds.swap_dims(theta='z')\n",
    "ds['cimf'] = c.calc_cimf(ds)\n",
    "dvdx = ddxND(ds.v, ds.latitude, ds.longitude)\n",
    "dudy = ddyND(ds.u, ds.latitude, ds.longitude)\n",
    "av = (dvdx - dudy + c.fc).transpose(*ds.u.dims)\n",
    "av = xarray.DataArray(av, coords=ds.u.coords, dims=ds.u.dims, name='eta')\n",
    "av.attrs = {'long_name':'absolute vorticity', 'units':'s**-1'}\n",
    "ds['eta'] = av\n",
    "dp = c.calc_dp(ds)\n",
    "dth = ds.theta.differentiate('z')\n",
    "sigma = -1/c.g*dp/dth\n",
    "ds['dthetadt'] = ds.cimf/sigma\n",
    "ds = c.convert_wind(ds)\n",
    "ds['dvdtheta'] = ds.v_tan.differentiate('theta')"
   ]
  },
  {
   "cell_type": "code",
   "execution_count": 7,
   "id": "f68b277d-f349-4312-96d2-78a0840b83ba",
   "metadata": {
    "tags": []
   },
   "outputs": [
    {
     "name": "stdout",
     "output_type": "stream",
     "text": [
      "08:10:49: calc_dp(ds)\n"
     ]
    }
   ],
   "source": [
    "dss = ds[['latitude','longitude','xc','yc','u_rad','v_tan','eta','dthetadt','dvdtheta','pres']]\n",
    "dp = c.calc_dp(ds)\n",
    "dth = ds.theta.differentiate('z')\n",
    "dss['sigma'] = -1/c.g*dp/dth\n",
    "dss['dthetadt'] = ds.cimf/dss.sigma"
   ]
  },
  {
   "cell_type": "code",
   "execution_count": 8,
   "id": "63786001-9eb4-4abf-9de8-0edda3195346",
   "metadata": {
    "tags": []
   },
   "outputs": [
    {
     "name": "stdout",
     "output_type": "stream",
     "text": [
      "08:10:59: azimean()\n",
      "08:10:59: toPolar()\n",
      "08:10:59: distance()\n",
      "08:11:01: convert_wind()\n",
      "08:11:01: convert_wind(): using existing u_rad and v_tan\n",
      "08:11:01: azimean_gufunc()\n",
      "08:11:35: removing ['dy', 'dx'] from azimuthal mean dataset\n",
      "CPU times: user 14.7 s, sys: 12 s, total: 26.7 s\n",
      "Wall time: 35.5 s\n"
     ]
    }
   ],
   "source": [
    "%%time\n",
    "dsm,_ = c.azimean(dss)"
   ]
  },
  {
   "cell_type": "code",
   "execution_count": 9,
   "id": "1e137d70-1854-4ac1-b0e5-f205f04b96a8",
   "metadata": {
    "tags": []
   },
   "outputs": [],
   "source": [
    "dsm['Ja_m'] = dsm.u_rad * dsm.eta\n",
    "dsm['Jh_m'] = dsm.dthetadt * dsm.dvdtheta"
   ]
  },
  {
   "cell_type": "code",
   "execution_count": 10,
   "id": "a6ffc2f2-33a6-44a3-bc20-8dc3dd559a7c",
   "metadata": {
    "tags": []
   },
   "outputs": [
    {
     "name": "stdout",
     "output_type": "stream",
     "text": [
      "08:11:35: toPolar()\n",
      "08:11:35: distance()\n"
     ]
    }
   ],
   "source": [
    "# convert azimuthal means back to original grid\n",
    "dist, angle = c.toPolar(ds.latitude, ds.longitude, ds.xc, ds.yc)\n",
    "dist.attrs = {'long_name':'radial distance from centre','units':'m'}\n",
    "ds['radius'] = dist.compute().astype('float32')\n",
    "u_rad_m = dsm.u_rad.interp(r=ds.radius)\n",
    "eta_m = dsm.eta.interp(r=ds.radius)\n",
    "dthetadt_m = dsm.dthetadt.interp(r=ds.radius)\n",
    "dvdtheta_m = dsm.dvdtheta.interp(r=ds.radius)"
   ]
  },
  {
   "cell_type": "code",
   "execution_count": 11,
   "id": "8eb08c95-9cf5-45d9-9858-e5f57b5c7a39",
   "metadata": {
    "tags": []
   },
   "outputs": [],
   "source": [
    "# calculate eddy fluxes\n",
    "u_e = ds['u_rad'] - u_rad_m\n",
    "eta_e = ds['eta'] - eta_m \n",
    "dthetadt_e = ds['dthetadt'] - dthetadt_m \n",
    "dvdtheta_e = ds['dvdtheta'] - dvdtheta_m\n",
    "ds['Ja_e'] = u_e * eta_e\n",
    "ds['Jh_e'] = dthetadt_e * dvdtheta_e"
   ]
  },
  {
   "cell_type": "code",
   "execution_count": 12,
   "id": "807a965f-6c41-48db-bd3f-c9f59722713b",
   "metadata": {
    "tags": []
   },
   "outputs": [
    {
     "name": "stdout",
     "output_type": "stream",
     "text": [
      "08:13:56: azimean()\n",
      "08:13:56: toPolar()\n",
      "08:13:56: distance()\n",
      "08:13:57: convert_wind()\n",
      "08:13:57: convert_wind(): no input, skipping\n",
      "08:13:57: azimean_gufunc()\n",
      "08:14:04: removing ['dy', 'dx'] from azimuthal mean dataset\n"
     ]
    }
   ],
   "source": [
    "# azimuthal mean of eddy components\n",
    "dsme,_ = c.azimean(ds[['latitude','longitude','xc','yc','Ja_e','Jh_e']])"
   ]
  },
  {
   "cell_type": "code",
   "execution_count": 13,
   "id": "76a767c6-e6be-4adc-86a7-c793e1b31e16",
   "metadata": {
    "tags": []
   },
   "outputs": [],
   "source": [
    "dsm = xarray.merge((dsm, dsme))\n",
    "dsm = dsm.sel(valid_time=slice('2017-09-06 00','2017-09-06 12')).mean('valid_time')"
   ]
  },
  {
   "cell_type": "code",
   "execution_count": 15,
   "id": "61162672-a679-4ef6-8e73-6e58d3fc991d",
   "metadata": {
    "tags": []
   },
   "outputs": [],
   "source": [
    "dsm.to_netcdf('lg2meaneddy.nc')"
   ]
  },
  {
   "cell_type": "code",
   "execution_count": null,
   "id": "8c67c9ba-b098-43b3-b94d-263081522ce0",
   "metadata": {},
   "outputs": [],
   "source": []
  }
 ],
 "metadata": {
  "kernelspec": {
   "display_name": "Python 3 (ipykernel)",
   "language": "python",
   "name": "python3"
  },
  "language_info": {
   "codemirror_mode": {
    "name": "ipython",
    "version": 3
   },
   "file_extension": ".py",
   "mimetype": "text/x-python",
   "name": "python",
   "nbconvert_exporter": "python",
   "pygments_lexer": "ipython3",
   "version": "3.8.15"
  }
 },
 "nbformat": 4,
 "nbformat_minor": 5
}
